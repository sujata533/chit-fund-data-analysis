{
  "nbformat": 4,
  "nbformat_minor": 0,
  "metadata": {
    "colab": {
      "name": "chitfund data analysis.ipynb",
      "private_outputs": true,
      "provenance": []
    },
    "kernelspec": {
      "name": "python3",
      "display_name": "Python 3"
    }
  },
  "cells": [
    {
      "cell_type": "markdown",
      "metadata": {
        "id": "Lsj1nGe3x9BA"
      },
      "source": [
        "# **Problem Statement**"
      ]
    },
    {
      "cell_type": "markdown",
      "metadata": {
        "id": "HdaOOyGwyBw-"
      },
      "source": [
        "# **CHITFUND DATA ANALYSIS**"
      ]
    },
    {
      "cell_type": "markdown",
      "metadata": {
        "id": "TTfDkSGOyRbi"
      },
      "source": [
        "# **importing the necessary libraries**"
      ]
    },
    {
      "cell_type": "code",
      "metadata": {
        "id": "yvfo5HlRtxUT"
      },
      "source": [
        "import numpy as np \n",
        "import pandas as pd\n",
        "import matplotlib.pyplot as plt\n",
        "import seaborn as sns"
      ],
      "execution_count": null,
      "outputs": []
    },
    {
      "cell_type": "markdown",
      "metadata": {
        "id": "DWsJ5Aq5yaiK"
      },
      "source": [
        "# **Plotting style**"
      ]
    },
    {
      "cell_type": "code",
      "metadata": {
        "id": "h6ytBW3PyXKK"
      },
      "source": [
        "sns.set_style(\"whitegrid\")\n",
        "sns.set_palette(\"muted\")\n",
        "plt.style.use(\"fivethirtyeight\")"
      ],
      "execution_count": null,
      "outputs": []
    },
    {
      "cell_type": "markdown",
      "metadata": {
        "id": "MZz78cGFygoe"
      },
      "source": [
        "# **ignoring the warnings**"
      ]
    },
    {
      "cell_type": "code",
      "metadata": {
        "id": "DSp36KYzyeW1"
      },
      "source": [
        "import warnings\n",
        "warnings.filterwarnings('ignore',category = DeprecationWarning)\n",
        "warnings.filterwarnings('ignore',category = UserWarning)\n",
        "warnings.filterwarnings('ignore',category = RuntimeWarning)\n",
        "warnings.filterwarnings('ignore',category = FutureWarning)"
      ],
      "execution_count": null,
      "outputs": []
    },
    {
      "cell_type": "markdown",
      "metadata": {
        "id": "ZMt1HEQXyoDp"
      },
      "source": [
        "# **setting the no.of rows and columns**"
      ]
    },
    {
      "cell_type": "code",
      "metadata": {
        "id": "6ruJXT4-ykiX"
      },
      "source": [
        "pd.set_option('display.max_rows',100000)\n",
        "pd.set_option('display.max_columns',1000)"
      ],
      "execution_count": null,
      "outputs": []
    },
    {
      "cell_type": "markdown",
      "metadata": {
        "id": "UXGh_6ThyvqZ"
      },
      "source": [
        "# **accessing the drive**"
      ]
    },
    {
      "cell_type": "code",
      "metadata": {
        "id": "rAvyzxGWysTS"
      },
      "source": [
        "from google.colab import drive\n",
        "drive.mount('/gdrive')"
      ],
      "execution_count": null,
      "outputs": []
    },
    {
      "cell_type": "markdown",
      "metadata": {
        "id": "GQJuUeSwy9EG"
      },
      "source": [
        "# **Reading the Data**"
      ]
    },
    {
      "cell_type": "code",
      "metadata": {
        "id": "dhhLvIx8yzjt"
      },
      "source": [
        "data = pd.read_excel('/gdrive/My Drive/Colab Notebooks/chitfunddata.xlsx')\n"
      ],
      "execution_count": null,
      "outputs": []
    },
    {
      "cell_type": "markdown",
      "metadata": {
        "id": "tCp0AB4_zTEa"
      },
      "source": [
        "# **printing the data only top 5**"
      ]
    },
    {
      "cell_type": "code",
      "metadata": {
        "id": "XsdRmF0H2oSg"
      },
      "source": [
        "data.head()"
      ],
      "execution_count": null,
      "outputs": []
    },
    {
      "cell_type": "markdown",
      "metadata": {
        "id": "wmaLXOUtzh0I"
      },
      "source": [
        "# **Renaming the column names**"
      ]
    },
    {
      "cell_type": "code",
      "metadata": {
        "id": "pClBNXw20vZa"
      },
      "source": [
        "data = data.rename(columns={\"Unnamed: 0\": \"Month\", \"Unnamed: 1\": \"Contribution\", \"Unnamed: 2\":\"Amount won by the bidder\", \"Unnamed: 3\":\"Chit fund organizer commission\", \"Unnamed: 4\":\"Net amount recd by Bid winner\",\"Unnamed: 5\":\"Amount returned to everyone in the group\"})"
      ],
      "execution_count": null,
      "outputs": []
    },
    {
      "cell_type": "code",
      "metadata": {
        "id": "bdGGRt_f5e9T"
      },
      "source": [
        "data.head()"
      ],
      "execution_count": null,
      "outputs": []
    },
    {
      "cell_type": "code",
      "metadata": {
        "id": "XHPoZ-SP4WEA"
      },
      "source": [
        "data_new = data[1:]"
      ],
      "execution_count": null,
      "outputs": []
    },
    {
      "cell_type": "markdown",
      "metadata": {
        "id": "uvQWFxXL6r7i"
      },
      "source": [
        "# **printing the data only top 5**"
      ]
    },
    {
      "cell_type": "code",
      "metadata": {
        "id": "YWxW2F9R6i7D"
      },
      "source": [
        "data_new.head()"
      ],
      "execution_count": null,
      "outputs": []
    },
    {
      "cell_type": "markdown",
      "metadata": {
        "id": "El3sQyq_61Xa"
      },
      "source": [
        "# **dataset description**"
      ]
    },
    {
      "cell_type": "code",
      "metadata": {
        "id": "9sdJhK4j6wLZ"
      },
      "source": [
        "data_new.info()"
      ],
      "execution_count": null,
      "outputs": []
    },
    {
      "cell_type": "markdown",
      "metadata": {
        "id": "wezaNetI7Bdd"
      },
      "source": [
        "# **Data types (dtypes) of columns**"
      ]
    },
    {
      "cell_type": "code",
      "metadata": {
        "id": "xshN8uIX673u"
      },
      "source": [
        "data_new.dtypes"
      ],
      "execution_count": null,
      "outputs": []
    },
    {
      "cell_type": "markdown",
      "metadata": {
        "id": "BImRw_7X7dnP"
      },
      "source": [
        "# **No.of columns**"
      ]
    },
    {
      "cell_type": "code",
      "metadata": {
        "id": "whSV7eSu7Wjp"
      },
      "source": [
        "len(data.columns)"
      ],
      "execution_count": null,
      "outputs": []
    },
    {
      "cell_type": "markdown",
      "metadata": {
        "id": "r2zf_viO7m7a"
      },
      "source": [
        "# No.of columns : 6"
      ]
    },
    {
      "cell_type": "markdown",
      "metadata": {
        "id": "e89F0YHc7sSL"
      },
      "source": [
        "# **observations in the data**"
      ]
    },
    {
      "cell_type": "code",
      "metadata": {
        "id": "DPNiH-CU7idw"
      },
      "source": [
        "data.shape[:1]"
      ],
      "execution_count": null,
      "outputs": []
    },
    {
      "cell_type": "markdown",
      "metadata": {
        "id": "IW6t5bLn71Bp"
      },
      "source": [
        "# No.of observations : 26"
      ]
    },
    {
      "cell_type": "markdown",
      "metadata": {
        "id": "RHkCLk0Z8oV4"
      },
      "source": [
        "# **Which features contain blank, null or empty values?**"
      ]
    },
    {
      "cell_type": "code",
      "metadata": {
        "id": "7yN0h0527xDS"
      },
      "source": [
        "print('Missing values:',data_new.isnull().values.sum())\n",
        "print()\n",
        "data_new.isnull().sum()"
      ],
      "execution_count": null,
      "outputs": []
    },
    {
      "cell_type": "markdown",
      "metadata": {
        "id": "TRILGwE2_jDw"
      },
      "source": [
        "# **As every member of the chit fund can borrow money only once, each record belongs to a unique participant.**"
      ]
    },
    {
      "cell_type": "markdown",
      "metadata": {
        "id": "YXMjf5m6_ofk"
      },
      "source": [
        "# **Calculating Actual Contribution contributed by each member of the chit fund for every month.**"
      ]
    },
    {
      "cell_type": "code",
      "metadata": {
        "id": "OE858Q1q8v3d"
      },
      "source": [
        "data_new[\"Actual Contribution\"] = data_new[\"Contribution\"] - data_new[\"Amount returned to everyone in the group\"]\n",
        "data_new.head()"
      ],
      "execution_count": null,
      "outputs": []
    },
    {
      "cell_type": "markdown",
      "metadata": {
        "id": "z8zL3k8BAao7"
      },
      "source": [
        "# **Calculating Total Contribution contributed by each member of the chit fund throughout 25 months.**"
      ]
    },
    {
      "cell_type": "markdown",
      "metadata": {
        "id": "FLU7pVIwAhNn"
      },
      "source": [
        "# **Total amount contributed by each member = Sum of (Contribution of every month(2000) - Amount returned) for 25 months**"
      ]
    },
    {
      "cell_type": "code",
      "metadata": {
        "id": "6gpEkMZS_3v8"
      },
      "source": [
        "total = data_new[\"Actual Contribution\"].sum()\n",
        "total"
      ],
      "execution_count": null,
      "outputs": []
    },
    {
      "cell_type": "markdown",
      "metadata": {
        "id": "r57lWsptBDpI"
      },
      "source": [
        "# **Calculating Return/Net Profit obtained by the Bid Winners for every month**"
      ]
    },
    {
      "cell_type": "markdown",
      "metadata": {
        "id": "0BVIlm8eBJJS"
      },
      "source": [
        "# **Return = Net amount received by a participant - total amount contributed by a participant**"
      ]
    },
    {
      "cell_type": "code",
      "metadata": {
        "id": "1pC6-jocAz8h"
      },
      "source": [
        "data_new[\"return\"] = data_new[\"Net amount recd by Bid winner\"] - total\n",
        "data_new.head()"
      ],
      "execution_count": null,
      "outputs": []
    },
    {
      "cell_type": "markdown",
      "metadata": {
        "id": "OS8KecP7CK3a"
      },
      "source": [
        "# **Calculating Return Percentage obtained by the Bid Winners for every month**"
      ]
    },
    {
      "cell_type": "markdown",
      "metadata": {
        "id": "ZSpjFfe6CQMv"
      },
      "source": [
        "# **Return percentage = (Return / Total amount invested) X 100**"
      ]
    },
    {
      "cell_type": "code",
      "metadata": {
        "id": "QH97dfgNBvXL"
      },
      "source": [
        "data_new[\"ret%\"] = (data_new[\"return\"]/total)*100\n",
        "data_new.head()"
      ],
      "execution_count": null,
      "outputs": []
    },
    {
      "cell_type": "markdown",
      "metadata": {
        "id": "arMAiu8rFIPe"
      },
      "source": [
        "# **What is the Annualized  Return of the person who bids in the last month?**"
      ]
    },
    {
      "cell_type": "markdown",
      "metadata": {
        "id": "2iI9nNZrFkUk"
      },
      "source": [
        "# **Formula for Annualized Return which I was able to procure after reading on internet:**"
      ]
    },
    {
      "cell_type": "markdown",
      "metadata": {
        "id": "ncF2xjvuFqGO"
      },
      "source": [
        "# **((1 + return%)^(12/months the chit fund is hold) - 1) * 100**"
      ]
    },
    {
      "cell_type": "markdown",
      "metadata": {
        "id": "_tSLXJyFFzJP"
      },
      "source": [
        "# source[link text](https://www.investopedia.com/terms/a/annualized-total-return.asp)"
      ]
    },
    {
      "cell_type": "code",
      "metadata": {
        "id": "VeeH7thXCWzW"
      },
      "source": [
        "data_new.iloc[24]"
      ],
      "execution_count": null,
      "outputs": []
    },
    {
      "cell_type": "code",
      "metadata": {
        "id": "DKjbuVHsGMOc"
      },
      "source": [
        "((((1 + (data_new[\"ret%\"][24])/100)) ** (12/25)) - 1) * 100"
      ],
      "execution_count": null,
      "outputs": []
    },
    {
      "cell_type": "markdown",
      "metadata": {
        "id": "8mavr-12GiCc"
      },
      "source": [
        "# **Annualized return of the person who bids in last month is: 1.85%**"
      ]
    },
    {
      "cell_type": "markdown",
      "metadata": {
        "id": "k3FSMWrEG6Wh"
      },
      "source": [
        "# **What is the Annualized Return of the person who bids in the first month ?**"
      ]
    },
    {
      "cell_type": "code",
      "metadata": {
        "id": "wrKt4KLyGWsP"
      },
      "source": [
        "data_new.iloc[0]"
      ],
      "execution_count": null,
      "outputs": []
    },
    {
      "cell_type": "code",
      "metadata": {
        "id": "1Q-8WmkjHEGs"
      },
      "source": [
        "((((1 + (data_new[\"ret%\"][1])/100)) ** (12/25)) - 1) * 100"
      ],
      "execution_count": null,
      "outputs": []
    },
    {
      "cell_type": "markdown",
      "metadata": {
        "id": "trZ68HugHoGd"
      },
      "source": [
        "# **Annualized return of the person who bids in first month is: -7.18%**"
      ]
    },
    {
      "cell_type": "markdown",
      "metadata": {
        "id": "TNzx0pNqHy3k"
      },
      "source": [
        "# **Write an Python script which calculates the annualized return of chit fund participant? - Show the Return % for each month's bid winner.**"
      ]
    },
    {
      "cell_type": "markdown",
      "metadata": {
        "id": "wSaneCl1H3-X"
      },
      "source": [
        "# **Return percentages of each month's bid winners.**"
      ]
    },
    {
      "cell_type": "code",
      "metadata": {
        "id": "9eyOBjFMHMnh"
      },
      "source": [
        "data_new[\"ret%\"]"
      ],
      "execution_count": null,
      "outputs": []
    },
    {
      "cell_type": "code",
      "metadata": {
        "id": "3rI-ERceH95P"
      },
      "source": [
        "plt.figure(figsize = (12,8))\n",
        "plt.plot(data_new[\"Month\"], data_new[\"ret%\"])"
      ],
      "execution_count": null,
      "outputs": []
    },
    {
      "cell_type": "markdown",
      "metadata": {
        "id": "AsUaWKoAIoU0"
      },
      "source": [
        "# Corresponding to the essence of chit fund, the return increases as the time duration of borrowing money increases"
      ]
    },
    {
      "cell_type": "code",
      "metadata": {
        "id": "H5Jull1sIMca"
      },
      "source": [
        "plt.figure(figsize = (12,8))\n",
        "plt.plot(data_new[\"Month\"], data_new[\"ret%\"], color = 'red')\n",
        "plt.plot(data_new[\"Month\"], data_new[\"Net amount recd by Bid winner\"]/1000, color = 'blue')\n",
        "plt.legend((\"Return %\", \"Net Amount Received by Bid Winner in thousands\"))"
      ],
      "execution_count": null,
      "outputs": []
    },
    {
      "cell_type": "markdown",
      "metadata": {
        "id": "8Kr1V-g6JerS"
      },
      "source": [
        "# Return is correlated with net amount received- substantiates the calculations performed above."
      ]
    },
    {
      "cell_type": "code",
      "metadata": {
        "id": "wyiWeDtLJR27"
      },
      "source": [
        ""
      ],
      "execution_count": null,
      "outputs": []
    }
  ]
}